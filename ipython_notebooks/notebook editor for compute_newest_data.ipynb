{
  "metadata": {
    "creator": "admin",
    "customFields": {},
    "kernelspec": {
      "display_name": "Python (env ebay-scraping)",
      "language": "python",
      "name": "py-dku-venv-ebay-scraping"
    },
    "language_info": {
      "codemirror_mode": {
        "name": "ipython",
        "version": 3
      },
      "file_extension": ".py",
      "mimetype": "text/x-python",
      "name": "python",
      "nbconvert_exporter": "python",
      "pygments_lexer": "ipython3",
      "version": "3.6.8"
    },
    "tags": [
      "deleted-recipe-editor"
    ]
  },
  "nbformat": 4,
  "nbformat_minor": 1,
  "cells": [
    {
      "execution_count": 8,
      "cell_type": "code",
      "metadata": {},
      "source": [
        "#ライブラリのインポート\n",
        "import requests\n",
        "from bs4 import BeautifulSoup\n",
        "from datetime import date\n",
        "import pytz\n",
        "from datetime import datetime\n",
        "import pandas as pd"
      ],
      "outputs": []
    },
    {
      "execution_count": 3,
      "cell_type": "code",
      "metadata": {},
      "source": [
        "#tenki.jpの目的の地域のページのURL（今回は東京都調布市）\n",
        "url \u003d \u0027https://tenki.jp/forecast/2/5/3110/2202/\u0027\n",
        "\n",
        "#HTTPリクエスト\n",
        "r \u003d requests.get(url)\n",
        "\n",
        "#プロキシ環境下の場合は以下を記述\n",
        "\"\"\"\n",
        "proxies \u003d {\n",
        "    \"http\":\"http://proxy.xxx.xxx.xxx:8080\",\n",
        "    \"https\":\"http://proxy.xxx.xxx.xxx:8080\"\n",
        "}\n",
        "r \u003d requests.get(url, proxies\u003dproxies)\n",
        "\"\"\"\n",
        "\n",
        "#HTMLの解析\n",
        "bsObj \u003d BeautifulSoup(r.content, \"html.parser\")\n",
        "\n",
        "#今日の天気を取得\n",
        "today \u003d bsObj.find(class_\u003d\"today-weather\")\n",
        "weather \u003d today.p.string\n",
        "\n",
        "#気温情報のまとまり\n",
        "temp\u003dtoday.div.find(class_\u003d\"date-value-wrap\")\n",
        "\n",
        "#気温の取得\n",
        "temp\u003dtemp.find_all(\"dd\")\n",
        "temp_max \u003d temp[0].span.string #最高気温\n",
        "temp_max_diff\u003dtemp[1].string #最高気温の前日比\n",
        "temp_min \u003d temp[2].span.string #最低気温\n",
        "temp_min_diff\u003dtemp[3].string #最低気温の前日比\n",
        "\n",
        "#結果の出力\n",
        "print(\"天気:{}\".format(weather))\n",
        "print(\"最高気温:{} {}\".format(temp_max,temp_max_diff))\n",
        "print(\"最低気温:{} {}\".format(temp_min,temp_min_diff))"
      ],
      "outputs": [
        {
          "name": "stdout",
          "output_type": "stream",
          "text": [
            "天気:曇時々雪\n",
            "最高気温:-2 [+2]\n",
            "最低気温:-6 [0]\n"
          ]
        }
      ]
    },
    {
      "execution_count": 4,
      "cell_type": "code",
      "metadata": {},
      "source": [
        "temp_ave \u003d (int(temp_max) + int(temp_min))/2\n",
        "temp_ave"
      ],
      "outputs": [
        {
          "data": {
            "text/plain": [
              "-4.0"
            ]
          },
          "execution_count": 4,
          "metadata": {},
          "output_type": "execute_result"
        }
      ]
    },
    {
      "execution_count": 5,
      "cell_type": "code",
      "metadata": {},
      "source": [
        "from dateutil import tz\n",
        "\n",
        "# METHOD 1: Hardcode zones:\n",
        "from_zone \u003d tz.gettz(\u0027UTC\u0027)\n",
        "to_zone \u003d tz.gettz(\u0027Japan\u0027)\n",
        "\n",
        "utc \u003d datetime.utcnow()\n",
        "# utc \u003d datetime.strptime(\u00272011-01-21 02:37:21\u0027, \u0027%Y-%m-%d %H:%M:%S\u0027)\n",
        "\n",
        "# Tell the datetime object that it\u0027s in UTC time zone since \n",
        "# datetime objects are \u0027naive\u0027 by default\n",
        "utc \u003d utc.replace(tzinfo\u003dfrom_zone)\n",
        "\n",
        "# Convert time zone\n",
        "jpn_time \u003d utc.astimezone(to_zone)"
      ],
      "outputs": []
    },
    {
      "execution_count": 6,
      "cell_type": "code",
      "metadata": {},
      "source": [
        "today \u003d str(jpn_time.year)+\"-\"+str(jpn_time.month)+\"-\"+str(jpn_time.day)"
      ],
      "outputs": []
    },
    {
      "execution_count": 10,
      "cell_type": "code",
      "metadata": {},
      "source": [
        "df \u003d pd.DataFrame({\"date\":[today], \"temperature\":[temp_ave]})"
      ],
      "outputs": [
        {
          "data": {
            "text/html": [
              "\u003cdiv\u003e\n",
              "\u003cstyle scoped\u003e\n",
              "    .dataframe tbody tr th:only-of-type {\n",
              "        vertical-align: middle;\n",
              "    }\n",
              "\n",
              "    .dataframe tbody tr th {\n",
              "        vertical-align: top;\n",
              "    }\n",
              "\n",
              "    .dataframe thead th {\n",
              "        text-align: right;\n",
              "    }\n",
              "\u003c/style\u003e\n",
              "\u003ctable border\u003d\"1\" class\u003d\"dataframe\"\u003e\n",
              "  \u003cthead\u003e\n",
              "    \u003ctr style\u003d\"text-align: right;\"\u003e\n",
              "      \u003cth\u003e\u003c/th\u003e\n",
              "      \u003cth\u003edate\u003c/th\u003e\n",
              "      \u003cth\u003etemperature\u003c/th\u003e\n",
              "    \u003c/tr\u003e\n",
              "  \u003c/thead\u003e\n",
              "  \u003ctbody\u003e\n",
              "    \u003ctr\u003e\n",
              "      \u003cth\u003e0\u003c/th\u003e\n",
              "      \u003ctd\u003e2021-2-9\u003c/td\u003e\n",
              "      \u003ctd\u003e-4.0\u003c/td\u003e\n",
              "    \u003c/tr\u003e\n",
              "  \u003c/tbody\u003e\n",
              "\u003c/table\u003e\n",
              "\u003c/div\u003e"
            ],
            "text/plain": [
              "       date  temperature\n",
              "0  2021-2-9         -4.0"
            ]
          },
          "execution_count": 10,
          "metadata": {},
          "output_type": "execute_result"
        }
      ]
    },
    {
      "execution_count": 0,
      "cell_type": "code",
      "metadata": {},
      "source": [],
      "outputs": []
    }
  ]
}