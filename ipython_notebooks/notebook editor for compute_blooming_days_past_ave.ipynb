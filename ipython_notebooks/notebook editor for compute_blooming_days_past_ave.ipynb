{
  "metadata": {
    "creator": "mmiyazaki",
    "customFields": {},
    "kernelspec": {
      "display_name": "Python 2",
      "language": "python",
      "name": "python2"
    },
    "language_info": {
      "codemirror_mode": {
        "name": "ipython",
        "version": 2
      },
      "file_extension": ".py",
      "mimetype": "text/x-python",
      "name": "python",
      "nbconvert_exporter": "python",
      "pygments_lexer": "ipython2",
      "version": "2.7.5"
    },
    "tags": [
      "deleted-recipe-editor"
    ]
  },
  "nbformat": 4,
  "nbformat_minor": 1,
  "cells": [
    {
      "execution_count": 1,
      "cell_type": "code",
      "metadata": {},
      "source": [
        "# -*- coding: utf-8 -*-\n",
        "import dataiku\n",
        "import pandas as pd, numpy as np\n",
        "from dataiku import pandasutils as pdu"
      ],
      "outputs": []
    },
    {
      "execution_count": 4,
      "cell_type": "code",
      "metadata": {},
      "source": [
        "# Read recipe inputs\n",
        "three_cities_blooming_day \u003d dataiku.Dataset(\"three_cities_blooming_day\")\n",
        "df \u003d three_cities_blooming_day.get_dataframe()"
      ],
      "outputs": []
    },
    {
      "execution_count": 28,
      "cell_type": "code",
      "metadata": {},
      "source": [
        "df.sort_values([u\u0027場所\u0027, u\u0027開花日\u0027], ascending\u003dTrue, inplace\u003dTrue)"
      ],
      "outputs": []
    },
    {
      "execution_count": 36,
      "cell_type": "code",
      "metadata": {},
      "source": [
        "s_ave \u003d df.groupby([u\u0027場所\u0027])[u\u0027年初からの日数\u0027].expanding().mean().values"
      ],
      "outputs": []
    },
    {
      "execution_count": 38,
      "cell_type": "code",
      "metadata": {
        "scrolled": false
      },
      "source": [
        "df[u\u0027年初からの日数_暦年平均\u0027]\u003ds_ave"
      ],
      "outputs": []
    },
    {
      "execution_count": 0,
      "cell_type": "code",
      "metadata": {},
      "source": [
        "# Write recipe outputs\n",
        "blooming_days_past_ave \u003d dataiku.Dataset(\"blooming_days_past_ave\")\n",
        "blooming_days_past_ave.write_with_schema(df)"
      ],
      "outputs": []
    }
  ]
}