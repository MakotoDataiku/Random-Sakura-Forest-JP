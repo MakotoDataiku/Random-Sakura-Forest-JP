{
  "metadata": {
    "creator": "mmiyazaki",
    "customFields": {},
    "kernelspec": {
      "display_name": "Python (env ebay-scraping)",
      "language": "python",
      "name": "py-dku-venv-ebay-scraping"
    },
    "language_info": {
      "codemirror_mode": {
        "name": "ipython",
        "version": 3
      },
      "file_extension": ".py",
      "mimetype": "text/x-python",
      "name": "python",
      "nbconvert_exporter": "python",
      "pygments_lexer": "ipython3",
      "version": "3.6.8"
    },
    "tags": [
      "deleted-recipe-editor"
    ]
  },
  "nbformat": 4,
  "nbformat_minor": 1,
  "cells": [
    {
      "execution_count": 4,
      "cell_type": "code",
      "metadata": {},
      "source": [
        "import dataiku\n",
        "import pandas as pd, numpy as np\n",
        "from dataiku import pandasutils as pdu\n",
        "import requests\n",
        "from bs4 import BeautifulSoup\n",
        "import csv"
      ],
      "outputs": []
    },
    {
      "execution_count": 5,
      "cell_type": "code",
      "metadata": {},
      "source": [
        "place_code \u003d {\"東京\":{\"prec_no\":\"44\", \"block_no\":\"47662\", \"type\":\"s1\"}, \"大分\":{\"prec_no\":\"83\", \"block_no\":\"0808\", \"type\":\"a1\"}, \"弘前\":{\"prec_no\":\"31\", \"block_no\":\"0166\", \"type\":\"a1\"}}\n",
        "base_url \u003d \"http://www.data.jma.go.jp/obd/stats/etrn/view/daily_%s.php?prec_no\u003d%s\u0026block_no\u003d%s\u0026year\u003d%s\u0026month\u003d%s\u0026day\u003d\u0026view\u003dp1\""
      ],
      "outputs": []
    },
    {
      "execution_count": 6,
      "cell_type": "code",
      "metadata": {},
      "source": [
        "def str2float(str):\n",
        "    try:\n",
        "        return float(str)\n",
        "    except:\n",
        "        return 0.0"
      ],
      "outputs": []
    },
    {
      "execution_count": 10,
      "cell_type": "code",
      "metadata": {},
      "source": [
        "l \u003d []\n",
        "#都市を網羅します\n",
        "for place in place_code.keys():\n",
        "    #最終的にデータを集めるリスト (下に書いてある初期値は一行目。つまり、ヘッダー。)\n",
        "    print(place)\n",
        "    # index \u003d place_name.index(place)\n",
        "    prec_no \u003d place_code[place][\"prec_no\"]\n",
        "    block_no \u003d place_code[place][\"block_no\"]\n",
        "    data_type \u003d place_code[place][\"type\"]\n",
        "\n",
        "    year \u003d 2021\n",
        "    for month in range(1,2):\n",
        "        #print(month)\n",
        "        #2つの都市コードと年と月を当てはめる。\n",
        "        r \u003d requests.get(base_url%(data_type, prec_no, block_no, year, month))\n",
        "        r.encoding \u003d r.apparent_encoding\n",
        "\n",
        "        # まずはサイトごとスクレイピング\n",
        "        soup \u003d BeautifulSoup(r.text)\n",
        "        # findAllで条件に一致するものをすべて抜き出します。\n",
        "        # 今回の条件はtrタグでclassがmtxになってるものです。\n",
        "        rows \u003d soup.findAll(\u0027tr\u0027,class_\u003d\u0027mtx\u0027)\n",
        "\n",
        "        # 表の最初の1~4行目はカラム情報なのでスライスする。(indexだから初めは0だよ)\n",
        "        # 【追記】2020/3/11 申し訳ございません。間違えてました。\n",
        "        if data_type \u003d\u003d \"a1\":\n",
        "            rows_data \u003d rows[3:]\n",
        "\n",
        "            # 1日〜最終日までの１行を網羅し、取得します。\n",
        "            for row in rows_data:\n",
        "                # 今度はtrのなかのtdをすべて抜き出します\n",
        "                data \u003d row.findAll(\u0027td\u0027)\n",
        "\n",
        "                #１行の中には様々なデータがあるので全部取り出す。\n",
        "                # ★ポイント\n",
        "                day \u003d data[0].findAll(\u0027a\u0027)[0].string # 日にち\n",
        "                date \u003d str(year) + \"/\" + str(month) + \"/\" + day\n",
        "                precip_total  \u003d data[1].string #降水量(mm)合計\n",
        "                temp_ave \u003d data[4].string #平均気温\n",
        "                temp_high \u003d data[5].string #最高気温\n",
        "                temp_low \u003d data[6].string #最低気温\n",
        "                daylight \u003d data[13].string #日照時間\n",
        "                d \u003d {\"date\":date, \"precip_total\":precip_total, \"temp_ave\":temp_ave, \"temp_high\":temp_high, \"temp_low\":temp_low, \"daylight\":daylight, \"place\":place}\n",
        "                l.append(d)\n",
        "        else:\n",
        "            rows_data \u003d rows[4:]\n",
        "            for row in rows_data:\n",
        "                # 今度はtrのなかのtdをすべて抜き出します\n",
        "                data \u003d row.findAll(\u0027td\u0027)\n",
        "\n",
        "                #１行の中には様々なデータがあるので全部取り出す。\n",
        "                # ★ポイント\n",
        "                day \u003d data[0].findAll(\u0027a\u0027)[0].string\n",
        "                date \u003d str(year) + \"/\" + str(month) + \"/\" + day\n",
        "                precip_total  \u003d data[3].string #降水量(mm)合計\n",
        "                temp_ave \u003d data[6].string #平均気温\n",
        "                temp_high \u003d data[7].string #最高気温\n",
        "                temp_low \u003d data[8].string #最低気温\n",
        "                daylight \u003d data[16].string #日照時間\n",
        "                d \u003d {\"date\":date, \"precip_total\":precip_total, \"temp_ave\":temp_ave, \"temp_high\":temp_high, \"temp_low\":temp_low, \"daylight\":daylight, \"place\":place}\n",
        "                l.append(d)"
      ],
      "outputs": [
        {
          "name": "stdout",
          "output_type": "stream",
          "text": [
            "東京\n"
          ]
        },
        {
          "ename": "IndexError",
          "evalue": "list index out of range",
          "output_type": "error",
          "traceback": [
            "\u001b[0;31m---------------------------------------------------------------------------\u001b[0m",
            "\u001b[0;31mIndexError\u001b[0m                                Traceback (most recent call last)",
            "\u001b[0;32m\u003cipython-input-10-03d8ac2f6627\u003e\u001b[0m in \u001b[0;36m\u003cmodule\u003e\u001b[0;34m\u001b[0m\n\u001b[1;32m     51\u001b[0m                 \u001b[0;31m#１行の中には様々なデータがあるので全部取り出す。\u001b[0m\u001b[0;34m\u001b[0m\u001b[0;34m\u001b[0m\u001b[0;34m\u001b[0m\u001b[0m\n\u001b[1;32m     52\u001b[0m                 \u001b[0;31m# ★ポイント\u001b[0m\u001b[0;34m\u001b[0m\u001b[0;34m\u001b[0m\u001b[0;34m\u001b[0m\u001b[0m\n\u001b[0;32m---\u003e 53\u001b[0;31m                 \u001b[0mday\u001b[0m \u001b[0;34m\u003d\u001b[0m \u001b[0mdata\u001b[0m\u001b[0;34m[\u001b[0m\u001b[0;36m0\u001b[0m\u001b[0;34m]\u001b[0m\u001b[0;34m.\u001b[0m\u001b[0mfindAll\u001b[0m\u001b[0;34m(\u001b[0m\u001b[0;34m\u0027a\u0027\u001b[0m\u001b[0;34m)\u001b[0m\u001b[0;34m[\u001b[0m\u001b[0;36m0\u001b[0m\u001b[0;34m]\u001b[0m\u001b[0;34m.\u001b[0m\u001b[0mstring\u001b[0m\u001b[0;34m\u001b[0m\u001b[0;34m\u001b[0m\u001b[0m\n\u001b[0m\u001b[1;32m     54\u001b[0m                 \u001b[0mdate\u001b[0m \u001b[0;34m\u003d\u001b[0m \u001b[0mstr\u001b[0m\u001b[0;34m(\u001b[0m\u001b[0myear\u001b[0m\u001b[0;34m)\u001b[0m \u001b[0;34m+\u001b[0m \u001b[0;34m\"/\"\u001b[0m \u001b[0;34m+\u001b[0m \u001b[0mstr\u001b[0m\u001b[0;34m(\u001b[0m\u001b[0mmonth\u001b[0m\u001b[0;34m)\u001b[0m \u001b[0;34m+\u001b[0m \u001b[0;34m\"/\"\u001b[0m \u001b[0;34m+\u001b[0m \u001b[0mday\u001b[0m\u001b[0;34m\u001b[0m\u001b[0;34m\u001b[0m\u001b[0m\n\u001b[1;32m     55\u001b[0m                 \u001b[0mprecip_total\u001b[0m  \u001b[0;34m\u003d\u001b[0m \u001b[0mdata\u001b[0m\u001b[0;34m[\u001b[0m\u001b[0;36m3\u001b[0m\u001b[0;34m]\u001b[0m\u001b[0;34m.\u001b[0m\u001b[0mstring\u001b[0m \u001b[0;31m#降水量(mm)合計\u001b[0m\u001b[0;34m\u001b[0m\u001b[0;34m\u001b[0m\u001b[0m\n",
            "\u001b[0;31mIndexError\u001b[0m: list index out of range"
          ]
        }
      ]
    },
    {
      "execution_count": 8,
      "cell_type": "code",
      "metadata": {},
      "source": [
        "df \u003d pd.DataFrame(l)"
      ],
      "outputs": []
    },
    {
      "execution_count": 0,
      "cell_type": "code",
      "metadata": {},
      "source": [
        "# Write recipe outputs\n",
        "todays_weather \u003d dataiku.Dataset(\"todays_weather\")\n",
        "todays_weather.write_with_schema(df)"
      ],
      "outputs": []
    }
  ]
}