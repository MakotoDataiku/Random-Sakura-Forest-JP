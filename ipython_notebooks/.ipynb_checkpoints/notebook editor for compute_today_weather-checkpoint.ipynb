{
 "cells": [
  {
   "cell_type": "code",
   "execution_count": 1,
   "metadata": {},
   "outputs": [],
   "source": [
    "# -------------------------------------------------------------------------------- NOTEBOOK-CELL: CODE\n",
    "import dataiku\n",
    "import pandas as pd, numpy as np\n",
    "from dataiku import pandasutils as pdu\n",
    "import requests\n",
    "from bs4 import BeautifulSoup\n",
    "import csv\n",
    "from datetime import datetime as dt"
   ]
  },
  {
   "cell_type": "code",
   "execution_count": 2,
   "metadata": {},
   "outputs": [],
   "source": [
    "# -------------------------------------------------------------------------------- NOTEBOOK-CELL: CODE\n",
    "place_code = {\"東京\":{\"prec_no\":\"44\", \"block_no\":\"47662\", \"type\":\"s1\"}, \"大分\":{\"prec_no\":\"83\", \"block_no\":\"0808\", \"type\":\"a1\"}, \"弘前\":{\"prec_no\":\"31\", \"block_no\":\"0166\", \"type\":\"a1\"}}\n",
    "base_url = \"http://www.data.jma.go.jp/obd/stats/etrn/view/daily_%s.php?prec_no=%s&block_no=%s&year=%s&month=%s&day=&view=p1\"\n",
    "\n",
    "# -------------------------------------------------------------------------------- NOTEBOOK-CELL: CODE\n",
    "def str2float(str):\n",
    "    try:\n",
    "        return float(str)\n",
    "    except:\n",
    "        return 0.0"
   ]
  },
  {
   "cell_type": "code",
   "execution_count": 3,
   "metadata": {},
   "outputs": [],
   "source": [
    "# -------------------------------------------------------------------------------- NOTEBOOK-CELL: CODE\n",
    "today = dt.today()\n",
    "day = int(today.day) -1 #前日の気温を取得するため\n",
    "month = int(today.month)\n",
    "year = int(today.year)"
   ]
  },
  {
   "cell_type": "code",
   "execution_count": 4,
   "metadata": {},
   "outputs": [],
   "source": [
    "# -------------------------------------------------------------------------------- NOTEBOOK-CELL: CODE\n",
    "l = []"
   ]
  },
  {
   "cell_type": "code",
   "execution_count": null,
   "metadata": {},
   "outputs": [],
   "source": [
    "today = dt.today()\n",
    "day = int(today.day) - 1 #前日の気温を取得するため\n",
    "month = int(today.month)\n",
    "year = int(today.year)\n",
    "\n",
    "\n",
    "#都市を網羅します\n",
    "for place in place_code.keys():\n",
    "    #最終的にデータを集めるリスト (下に書いてある初期値は一行目。つまり、ヘッダー。)\n",
    "    # index = place_name.index(place)\n",
    "    prec_no = place_code[place][\"prec_no\"]\n",
    "    block_no = place_code[place][\"block_no\"]\n",
    "    data_type = place_code[place][\"type\"]\n",
    "\n",
    "    year = year\n",
    "\n",
    "    r = requests.get(base_url%(data_type, prec_no, block_no, year, month))\n",
    "    r.encoding = r.apparent_encoding\n",
    "\n",
    "    # まずはサイトごとスクレイピング\n",
    "    soup = BeautifulSoup(r.text)\n",
    "    # findAllで条件に一致するものをすべて抜き出します。\n",
    "    # 今回の条件はtrタグでclassがmtxになってるものです。\n",
    "    rows = soup.findAll('tr',class_='mtx')\n",
    "\n",
    "    # 表の最初の1~4行目はカラム情報なのでスライスする。(indexだから初めは0だよ)\n",
    "    # 【追記】2020/3/11 申し訳ございません。間違えてました。\n",
    "    if data_type == \"a1\":\n",
    "        row = rows[3:][day]\n",
    "\n",
    "        # 今度はtrのなかのtdをすべて抜き出します\n",
    "        data = row.findAll('td')\n",
    "\n",
    "        #１行の中には様々なデータがあるので全部取り出す。\n",
    "        # ★ポイント\n",
    "        # day = data[0].findAll('a')[0].string # 日にち\n",
    "        date = str(year) + \"/\" + str(month) + \"/\" + str(day)\n",
    "        precip_total  = data[1].string #降水量(mm)合計\n",
    "        temp_ave = data[4].string #平均気温\n",
    "        temp_high = data[5].string #最高気温\n",
    "        temp_low = data[6].string #最低気温\n",
    "        daylight = data[13].string #日照時間\n",
    "        d = {\"date\":date, \"precip_total\":precip_total, \"temp_ave\":temp_ave, \"temp_high\":temp_high, \"temp_low\":temp_low, \"daylight\":daylight, \"place\":place}\n",
    "        l.append(d)\n",
    "    else:\n",
    "        row = rows[4:][day-1]\n",
    "        data = row.findAll('td')\n",
    "        #１行の中には様々なデータがあるので全部取り出す。\n",
    "        # ★ポイント\n",
    "        # day = data[0].findAll('a')[0].string\n",
    "        date = str(year) + \"/\" + str(month) + \"/\" + str(day)\n",
    "        precip_total  = data[3].string #降水量(mm)合計\n",
    "        temp_ave = data[6].string #平均気温\n",
    "        temp_high = data[7].string #最高気温\n",
    "        temp_low = data[8].string #最低気温\n",
    "        daylight = data[16].string #日照時間\n",
    "        d = {\"date\":date, \"precip_total\":precip_total, \"temp_ave\":temp_ave, \"temp_high\":temp_high, \"temp_low\":temp_low, \"daylight\":daylight, \"place\":place}\n",
    "        l.append(d)"
   ]
  },
  {
   "cell_type": "code",
   "execution_count": null,
   "metadata": {},
   "outputs": [],
   "source": [
    "# -------------------------------------------------------------------------------- NOTEBOOK-CELL: CODE\n",
    "df = pd.DataFrame(l)\n",
    "\n",
    "# -------------------------------------------------------------------------------- NOTEBOOK-CELL: CODE\n",
    "df"
   ]
  },
  {
   "cell_type": "code",
   "execution_count": null,
   "metadata": {},
   "outputs": [],
   "source": [
    "# -------------------------------------------------------------------------------- NOTEBOOK-CELL: CODE\n",
    "todays_weather = dataiku.Dataset(\"todays_weather\")\n",
    "todays_weather.write_with_schema(df)"
   ]
  },
  {
   "cell_type": "code",
   "execution_count": 0,
   "metadata": {},
   "outputs": [],
   "source": [
    "# -------------------------------------------------------------------------------- NOTEBOOK-CELL: CODE\n",
    "\"\"\"\n",
    "\n",
    "\n",
    "\"\"\""
   ]
  }
 ],
 "metadata": {
  "associatedRecipe": "compute_today_weather",
  "creator": "mmiyazaki",
  "customFields": {},
  "kernelspec": {
   "display_name": "Python (env ebay-scraping__2_)",
   "language": "python",
   "name": "py-dku-venv-ebay-scraping__2_"
  },
  "language_info": {
   "codemirror_mode": {
    "name": "ipython",
    "version": 3
   },
   "file_extension": ".py",
   "mimetype": "text/x-python",
   "name": "python",
   "nbconvert_exporter": "python",
   "pygments_lexer": "ipython3",
   "version": "3.6.8"
  },
  "tags": [
   "recipe-editor"
  ]
 },
 "nbformat": 4,
 "nbformat_minor": 1
}
