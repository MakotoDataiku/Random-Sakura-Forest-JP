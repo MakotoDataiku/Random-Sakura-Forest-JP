{
 "cells": [
  {
   "cell_type": "code",
   "execution_count": 2,
   "metadata": {},
   "outputs": [],
   "source": [
    "#ライブラリのインポート\n",
    "import requests\n",
    "from bs4 import BeautifulSoup"
   ]
  },
  {
   "cell_type": "code",
   "execution_count": 3,
   "metadata": {},
   "outputs": [
    {
     "name": "stdout",
     "output_type": "stream",
     "text": [
      "天気:曇時々雪\n",
      "最高気温:-2 [+2]\n",
      "最低気温:-6 [0]\n"
     ]
    }
   ],
   "source": [
    "#tenki.jpの目的の地域のページのURL（今回は東京都調布市）\n",
    "url = 'https://tenki.jp/forecast/2/5/3110/2202/'\n",
    "\n",
    "#HTTPリクエスト\n",
    "r = requests.get(url)\n",
    "\n",
    "#プロキシ環境下の場合は以下を記述\n",
    "\"\"\"\n",
    "proxies = {\n",
    "    \"http\":\"http://proxy.xxx.xxx.xxx:8080\",\n",
    "    \"https\":\"http://proxy.xxx.xxx.xxx:8080\"\n",
    "}\n",
    "r = requests.get(url, proxies=proxies)\n",
    "\"\"\"\n",
    "\n",
    "#HTMLの解析\n",
    "bsObj = BeautifulSoup(r.content, \"html.parser\")\n",
    "\n",
    "#今日の天気を取得\n",
    "today = bsObj.find(class_=\"today-weather\")\n",
    "weather = today.p.string\n",
    "\n",
    "#気温情報のまとまり\n",
    "temp=today.div.find(class_=\"date-value-wrap\")\n",
    "\n",
    "#気温の取得\n",
    "temp=temp.find_all(\"dd\")\n",
    "temp_max = temp[0].span.string #最高気温\n",
    "temp_max_diff=temp[1].string #最高気温の前日比\n",
    "temp_min = temp[2].span.string #最低気温\n",
    "temp_min_diff=temp[3].string #最低気温の前日比\n",
    "\n",
    "#結果の出力\n",
    "print(\"天気:{}\".format(weather))\n",
    "print(\"最高気温:{} {}\".format(temp_max,temp_max_diff))\n",
    "print(\"最低気温:{} {}\".format(temp_min,temp_min_diff))"
   ]
  },
  {
   "cell_type": "code",
   "execution_count": null,
   "metadata": {},
   "outputs": [],
   "source": []
  }
 ],
 "metadata": {
  "associatedRecipe": "compute_newest_data",
  "creator": "admin",
  "customFields": {},
  "kernelspec": {
   "display_name": "Python (env ebay-scraping)",
   "language": "python",
   "name": "py-dku-venv-ebay-scraping"
  },
  "language_info": {
   "codemirror_mode": {
    "name": "ipython",
    "version": 3
   },
   "file_extension": ".py",
   "mimetype": "text/x-python",
   "name": "python",
   "nbconvert_exporter": "python",
   "pygments_lexer": "ipython3",
   "version": "3.6.8"
  },
  "tags": [
   "recipe-editor"
  ]
 },
 "nbformat": 4,
 "nbformat_minor": 1
}
