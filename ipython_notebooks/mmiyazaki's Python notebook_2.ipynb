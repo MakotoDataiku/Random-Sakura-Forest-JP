{
 "cells": [
  {
   "cell_type": "code",
   "execution_count": 0,
   "metadata": {},
   "outputs": [],
   "source": [
    "%pylab inline"
   ]
  },
  {
   "cell_type": "code",
   "execution_count": 24,
   "metadata": {},
   "outputs": [],
   "source": [
    "import dataiku\n",
    "import pandas as pd, numpy as np\n",
    "from dataiku import pandasutils as pdu\n",
    "import requests\n",
    "from bs4 import BeautifulSoup\n",
    "import csv\n",
    "from datetime import datetime as dt\n",
    "from datetime import datetime, timedelta\n",
    "\n",
    "place_code = {\"東京\":{\"prec_no\":\"44\", \"block_no\":\"47662\", \"type\":\"s1\"}, \"大分\":{\"prec_no\":\"83\", \"block_no\":\"0808\", \"type\":\"a1\"}, \"弘前\":{\"prec_no\":\"31\", \"block_no\":\"0166\", \"type\":\"a1\"}}\n",
    "base_url = \"http://www.data.jma.go.jp/obd/stats/etrn/view/daily_%s.php?prec_no=%s&block_no=%s&year=%s&month=%s&day=&view=p1\"\n",
    "\n",
    "def str2float(str):\n",
    "    try:\n",
    "        return float(str)\n",
    "    except:\n",
    "        return 0.0\n",
    "\n",
    "l = []\n",
    "\n",
    "today = dt.today() - timedelta(days=0) # - 1 #前日の気温を取得するため\n",
    "day = int(today.day) \n",
    "month = int(today.month)\n",
    "year = int(today.year)"
   ]
  },
  {
   "cell_type": "code",
   "execution_count": 25,
   "metadata": {},
   "outputs": [
    {
     "data": {
      "text/plain": [
       "(2021, 3, 10)"
      ]
     },
     "execution_count": 25,
     "metadata": {},
     "output_type": "execute_result"
    }
   ],
   "source": [
    "year, month, day"
   ]
  },
  {
   "cell_type": "code",
   "execution_count": 26,
   "metadata": {},
   "outputs": [
    {
     "name": "stdout",
     "output_type": "stream",
     "text": [
      "弘前\n",
      "http://www.data.jma.go.jp/obd/stats/etrn/view/daily_a1.php?prec_no=31&block_no=0166&year=2021&month=3&day=&view=p1\n",
      "東京\n",
      "http://www.data.jma.go.jp/obd/stats/etrn/view/daily_s1.php?prec_no=44&block_no=47662&year=2021&month=3&day=&view=p1\n",
      "大分\n",
      "http://www.data.jma.go.jp/obd/stats/etrn/view/daily_a1.php?prec_no=83&block_no=0808&year=2021&month=3&day=&view=p1\n",
      "3 rows successfully written (duNBjPGkfg)\n"
     ]
    }
   ],
   "source": [
    "for place in place_code.keys():\n",
    "    print(place)\n",
    "    prec_no = place_code[place][\"prec_no\"]\n",
    "    block_no = place_code[place][\"block_no\"]\n",
    "    data_type = place_code[place][\"type\"]\n",
    "\n",
    "    year = year\n",
    "    url = base_url%(data_type, prec_no, block_no, year, month)\n",
    "    print(url)\n",
    "    r = requests.get(url)\n",
    "    r.encoding = r.apparent_encoding\n",
    "\n",
    "    soup = BeautifulSoup(r.text)\n",
    "    rows = soup.findAll('tr',class_='mtx')\n",
    "\n",
    "    # 大分と弘前のページ\n",
    "    if data_type == \"a1\":\n",
    "        row = rows[3:][day-1]\n",
    "        data = row.findAll('td')\n",
    "        date = str(year) + \"/\" + str(month) + \"/\" + str(day)\n",
    "        precip_total  = data[1].string #降水量(mm)合計\n",
    "        temp_ave = data[4].string #平均気温\n",
    "        temp_high = data[5].string #最高気温\n",
    "        temp_low = data[6].string #最低気温\n",
    "        daylight = data[13].string #日照時間\n",
    "        d = {\"date\":date, \"precip_total\":precip_total, \"temp_ave\":temp_ave, \"temp_high\":temp_high, \"temp_low\":temp_low, \"daylight\":daylight, \"place\":place}\n",
    "        l.append(d)\n",
    "        \n",
    "    # 東京のページ（大分、弘前とはテーブルのフォーマットが微妙に違う）\n",
    "    else:\n",
    "        row = rows[4:][day-1]\n",
    "        data = row.findAll('td')\n",
    "        date = str(year) + \"/\" + str(month) + \"/\" + str(day)\n",
    "        precip_total  = data[3].string #降水量(mm)合計\n",
    "        temp_ave = data[6].string #平均気温\n",
    "        temp_high = data[7].string #最高気温\n",
    "        temp_low = data[8].string #最低気温\n",
    "        daylight = data[16].string #日照時間\n",
    "        d = {\"date\":date, \"precip_total\":precip_total, \"temp_ave\":temp_ave, \"temp_high\":temp_high, \"temp_low\":temp_low, \"daylight\":daylight, \"place\":place}\n",
    "        l.append(d)\n",
    "\n",
    "df = pd.DataFrame(l)\n",
    "\n",
    "todays_weather = dataiku.Dataset(\"today_weather\")\n",
    "todays_weather.write_with_schema(df)"
   ]
  },
  {
   "cell_type": "code",
   "execution_count": 15,
   "metadata": {},
   "outputs": [
    {
     "data": {
      "text/plain": [
       "'http://www.data.jma.go.jp/obd/stats/etrn/view/daily_a1.php?prec_no=31&block_no=0166&year=2021&month=2&day=&view=p1'"
      ]
     },
     "execution_count": 15,
     "metadata": {},
     "output_type": "execute_result"
    }
   ],
   "source": [
    "base_url%(data_type, prec_no, block_no, year, month)"
   ]
  },
  {
   "cell_type": "code",
   "execution_count": 21,
   "metadata": {},
   "outputs": [
    {
     "data": {
      "text/plain": [
       "<tr class=\"mtx\" style=\"text-align:right;\"><td style=\"white-space:nowrap\"><div class=\"a_print\"><a href=\"hourly_a1.php?prec_no=31&amp;block_no=0166&amp;year=2021&amp;month=02&amp;day=1&amp;view=p1\">1</a></div></td><td class=\"data_0_0\">0.5</td><td class=\"data_0_0\">0.5</td><td class=\"data_0_0\">0.5</td><td class=\"data_0_0\">0.4</td><td class=\"data_0_0\">7.7</td><td class=\"data_0_0\">-10.2</td><td class=\"data_0_0\">2.2</td><td class=\"data_0_0\">5.7</td><td class=\"data_0_0\" style=\"text-align:center\">\\u5357\\u5357\\u897f</td><td class=\"data_0_0\">12.2</td><td class=\"data_0_0\" style=\"text-align:center\">\\u5357</td><td class=\"data_0_0\" style=\"text-align:center\">\\u5357\\u5357\\u897f</td><td class=\"data_0_0\">6.1</td><td class=\"data_0_0\">0</td><td class=\"data_0_0\">46</td></tr>"
      ]
     },
     "execution_count": 21,
     "metadata": {},
     "output_type": "execute_result"
    }
   ],
   "source": [
    "rows[3:][0]"
   ]
  },
  {
   "cell_type": "code",
   "execution_count": null,
   "metadata": {},
   "outputs": [],
   "source": []
  }
 ],
 "metadata": {
  "creator": "mmiyazaki",
  "customFields": {},
  "kernelspec": {
   "display_name": "Python 2",
   "language": "python",
   "name": "python2"
  },
  "language_info": {
   "codemirror_mode": {
    "name": "ipython",
    "version": 2
   },
   "file_extension": ".py",
   "mimetype": "text/x-python",
   "name": "python",
   "nbconvert_exporter": "python",
   "pygments_lexer": "ipython2",
   "version": "2.7.5"
  },
  "tags": []
 },
 "nbformat": 4,
 "nbformat_minor": 1
}
